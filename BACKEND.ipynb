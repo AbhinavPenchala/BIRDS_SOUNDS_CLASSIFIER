{
 "cells": [
  {
   "cell_type": "code",
   "execution_count": 26,
   "metadata": {},
   "outputs": [],
   "source": [
    "import os\n",
    "import numpy as np\n",
    "import pandas as pd\n",
    "\n",
    "import matplotlib.pyplot as plt\n",
    "import seaborn as sns\n",
    "sns.set_style('darkgrid')\n",
    "sns.set()\n",
    "%config InlineBackend.figure_format = 'retina'\n",
    "\n",
    "\n",
    "import librosa\n",
    "import optuna"
   ]
  },
  {
   "cell_type": "code",
   "execution_count": 27,
   "metadata": {},
   "outputs": [
    {
     "data": {
      "text/html": [
       "<div>\n",
       "<style scoped>\n",
       "    .dataframe tbody tr th:only-of-type {\n",
       "        vertical-align: middle;\n",
       "    }\n",
       "\n",
       "    .dataframe tbody tr th {\n",
       "        vertical-align: top;\n",
       "    }\n",
       "\n",
       "    .dataframe thead th {\n",
       "        text-align: right;\n",
       "    }\n",
       "</style>\n",
       "<table border=\"1\" class=\"dataframe\">\n",
       "  <thead>\n",
       "    <tr style=\"text-align: right;\">\n",
       "      <th></th>\n",
       "      <th>primary_label</th>\n",
       "      <th>secondary_labels</th>\n",
       "      <th>type</th>\n",
       "      <th>latitude</th>\n",
       "      <th>longitude</th>\n",
       "      <th>scientific_name</th>\n",
       "      <th>common_name</th>\n",
       "      <th>author</th>\n",
       "      <th>license</th>\n",
       "      <th>rating</th>\n",
       "      <th>url</th>\n",
       "      <th>filename</th>\n",
       "    </tr>\n",
       "  </thead>\n",
       "  <tbody>\n",
       "    <tr>\n",
       "      <th>0</th>\n",
       "      <td>asbfly</td>\n",
       "      <td>[]</td>\n",
       "      <td>['call']</td>\n",
       "      <td>39.2297</td>\n",
       "      <td>118.1987</td>\n",
       "      <td>Muscicapa dauurica</td>\n",
       "      <td>Asian Brown Flycatcher</td>\n",
       "      <td>Matt Slaymaker</td>\n",
       "      <td>Creative Commons Attribution-NonCommercial-Sha...</td>\n",
       "      <td>5.0</td>\n",
       "      <td>https://www.xeno-canto.org/134896</td>\n",
       "      <td>asbfly/XC134896.ogg</td>\n",
       "    </tr>\n",
       "    <tr>\n",
       "      <th>1</th>\n",
       "      <td>asbfly</td>\n",
       "      <td>[]</td>\n",
       "      <td>['song']</td>\n",
       "      <td>51.4030</td>\n",
       "      <td>104.6401</td>\n",
       "      <td>Muscicapa dauurica</td>\n",
       "      <td>Asian Brown Flycatcher</td>\n",
       "      <td>Magnus Hellström</td>\n",
       "      <td>Creative Commons Attribution-NonCommercial-Sha...</td>\n",
       "      <td>2.5</td>\n",
       "      <td>https://www.xeno-canto.org/164848</td>\n",
       "      <td>asbfly/XC164848.ogg</td>\n",
       "    </tr>\n",
       "    <tr>\n",
       "      <th>2</th>\n",
       "      <td>asbfly</td>\n",
       "      <td>[]</td>\n",
       "      <td>['song']</td>\n",
       "      <td>36.3319</td>\n",
       "      <td>127.3555</td>\n",
       "      <td>Muscicapa dauurica</td>\n",
       "      <td>Asian Brown Flycatcher</td>\n",
       "      <td>Stuart Fisher</td>\n",
       "      <td>Creative Commons Attribution-NonCommercial-Sha...</td>\n",
       "      <td>2.5</td>\n",
       "      <td>https://www.xeno-canto.org/175797</td>\n",
       "      <td>asbfly/XC175797.ogg</td>\n",
       "    </tr>\n",
       "    <tr>\n",
       "      <th>3</th>\n",
       "      <td>asbfly</td>\n",
       "      <td>[]</td>\n",
       "      <td>['call']</td>\n",
       "      <td>21.1697</td>\n",
       "      <td>70.6005</td>\n",
       "      <td>Muscicapa dauurica</td>\n",
       "      <td>Asian Brown Flycatcher</td>\n",
       "      <td>vir joshi</td>\n",
       "      <td>Creative Commons Attribution-NonCommercial-Sha...</td>\n",
       "      <td>4.0</td>\n",
       "      <td>https://www.xeno-canto.org/207738</td>\n",
       "      <td>asbfly/XC207738.ogg</td>\n",
       "    </tr>\n",
       "    <tr>\n",
       "      <th>4</th>\n",
       "      <td>asbfly</td>\n",
       "      <td>[]</td>\n",
       "      <td>['call']</td>\n",
       "      <td>15.5442</td>\n",
       "      <td>73.7733</td>\n",
       "      <td>Muscicapa dauurica</td>\n",
       "      <td>Asian Brown Flycatcher</td>\n",
       "      <td>Albert Lastukhin &amp; Sergei Karpeev</td>\n",
       "      <td>Creative Commons Attribution-NonCommercial-Sha...</td>\n",
       "      <td>4.0</td>\n",
       "      <td>https://www.xeno-canto.org/209218</td>\n",
       "      <td>asbfly/XC209218.ogg</td>\n",
       "    </tr>\n",
       "  </tbody>\n",
       "</table>\n",
       "</div>"
      ],
      "text/plain": [
       "  primary_label secondary_labels      type  latitude  longitude  \\\n",
       "0        asbfly               []  ['call']   39.2297   118.1987   \n",
       "1        asbfly               []  ['song']   51.4030   104.6401   \n",
       "2        asbfly               []  ['song']   36.3319   127.3555   \n",
       "3        asbfly               []  ['call']   21.1697    70.6005   \n",
       "4        asbfly               []  ['call']   15.5442    73.7733   \n",
       "\n",
       "      scientific_name             common_name  \\\n",
       "0  Muscicapa dauurica  Asian Brown Flycatcher   \n",
       "1  Muscicapa dauurica  Asian Brown Flycatcher   \n",
       "2  Muscicapa dauurica  Asian Brown Flycatcher   \n",
       "3  Muscicapa dauurica  Asian Brown Flycatcher   \n",
       "4  Muscicapa dauurica  Asian Brown Flycatcher   \n",
       "\n",
       "                              author  \\\n",
       "0                     Matt Slaymaker   \n",
       "1                   Magnus Hellström   \n",
       "2                      Stuart Fisher   \n",
       "3                          vir joshi   \n",
       "4  Albert Lastukhin & Sergei Karpeev   \n",
       "\n",
       "                                             license  rating  \\\n",
       "0  Creative Commons Attribution-NonCommercial-Sha...     5.0   \n",
       "1  Creative Commons Attribution-NonCommercial-Sha...     2.5   \n",
       "2  Creative Commons Attribution-NonCommercial-Sha...     2.5   \n",
       "3  Creative Commons Attribution-NonCommercial-Sha...     4.0   \n",
       "4  Creative Commons Attribution-NonCommercial-Sha...     4.0   \n",
       "\n",
       "                                 url             filename  \n",
       "0  https://www.xeno-canto.org/134896  asbfly/XC134896.ogg  \n",
       "1  https://www.xeno-canto.org/164848  asbfly/XC164848.ogg  \n",
       "2  https://www.xeno-canto.org/175797  asbfly/XC175797.ogg  \n",
       "3  https://www.xeno-canto.org/207738  asbfly/XC207738.ogg  \n",
       "4  https://www.xeno-canto.org/209218  asbfly/XC209218.ogg  "
      ]
     },
     "execution_count": 27,
     "metadata": {},
     "output_type": "execute_result"
    }
   ],
   "source": [
    "train_data = pd.read_csv('C:/Users/pench/OneDrive/Desktop/birdclef-2024/train_metadata.csv')\n",
    "train_data.head()"
   ]
  },
  {
   "cell_type": "code",
   "execution_count": 28,
   "metadata": {},
   "outputs": [
    {
     "data": {
      "text/plain": [
       "(24459, 12)"
      ]
     },
     "execution_count": 28,
     "metadata": {},
     "output_type": "execute_result"
    }
   ],
   "source": [
    "train_data.shape"
   ]
  },
  {
   "cell_type": "code",
   "execution_count": 29,
   "metadata": {},
   "outputs": [
    {
     "data": {
      "text/plain": [
       "Index(['primary_label', 'secondary_labels', 'type', 'latitude', 'longitude',\n",
       "       'scientific_name', 'common_name', 'author', 'license', 'rating', 'url',\n",
       "       'filename'],\n",
       "      dtype='object')"
      ]
     },
     "execution_count": 29,
     "metadata": {},
     "output_type": "execute_result"
    }
   ],
   "source": [
    "train_data.columns"
   ]
  },
  {
   "cell_type": "code",
   "execution_count": 31,
   "metadata": {},
   "outputs": [
    {
     "name": "stdout",
     "output_type": "stream",
     "text": [
      "Number of unique names of birds:  182\n"
     ]
    }
   ],
   "source": [
    "print(\"Number of unique names of birds: \", train_data.primary_label.nunique())"
   ]
  },
  {
   "cell_type": "code",
   "execution_count": 32,
   "metadata": {},
   "outputs": [
    {
     "name": "stdout",
     "output_type": "stream",
     "text": [
      "Value Counts of birds in train data:\n"
     ]
    },
    {
     "data": {
      "text/html": [
       "<div>\n",
       "<style scoped>\n",
       "    .dataframe tbody tr th:only-of-type {\n",
       "        vertical-align: middle;\n",
       "    }\n",
       "\n",
       "    .dataframe tbody tr th {\n",
       "        vertical-align: top;\n",
       "    }\n",
       "\n",
       "    .dataframe thead th {\n",
       "        text-align: right;\n",
       "    }\n",
       "</style>\n",
       "<table border=\"1\" class=\"dataframe\">\n",
       "  <thead>\n",
       "    <tr style=\"text-align: right;\">\n",
       "      <th></th>\n",
       "      <th>primary_label</th>\n",
       "      <th>count</th>\n",
       "    </tr>\n",
       "  </thead>\n",
       "  <tbody>\n",
       "    <tr>\n",
       "      <th>0</th>\n",
       "      <td>zitcis1</td>\n",
       "      <td>500</td>\n",
       "    </tr>\n",
       "    <tr>\n",
       "      <th>1</th>\n",
       "      <td>lirplo</td>\n",
       "      <td>500</td>\n",
       "    </tr>\n",
       "    <tr>\n",
       "      <th>2</th>\n",
       "      <td>litgre1</td>\n",
       "      <td>500</td>\n",
       "    </tr>\n",
       "    <tr>\n",
       "      <th>3</th>\n",
       "      <td>comgre</td>\n",
       "      <td>500</td>\n",
       "    </tr>\n",
       "    <tr>\n",
       "      <th>4</th>\n",
       "      <td>comkin1</td>\n",
       "      <td>500</td>\n",
       "    </tr>\n",
       "    <tr>\n",
       "      <th>...</th>\n",
       "      <td>...</td>\n",
       "      <td>...</td>\n",
       "    </tr>\n",
       "    <tr>\n",
       "      <th>177</th>\n",
       "      <td>blaeag1</td>\n",
       "      <td>6</td>\n",
       "    </tr>\n",
       "    <tr>\n",
       "      <th>178</th>\n",
       "      <td>wynlau1</td>\n",
       "      <td>6</td>\n",
       "    </tr>\n",
       "    <tr>\n",
       "      <th>179</th>\n",
       "      <td>niwpig1</td>\n",
       "      <td>5</td>\n",
       "    </tr>\n",
       "    <tr>\n",
       "      <th>180</th>\n",
       "      <td>asiope1</td>\n",
       "      <td>5</td>\n",
       "    </tr>\n",
       "    <tr>\n",
       "      <th>181</th>\n",
       "      <td>integr</td>\n",
       "      <td>5</td>\n",
       "    </tr>\n",
       "  </tbody>\n",
       "</table>\n",
       "<p>182 rows × 2 columns</p>\n",
       "</div>"
      ],
      "text/plain": [
       "    primary_label  count\n",
       "0         zitcis1    500\n",
       "1          lirplo    500\n",
       "2         litgre1    500\n",
       "3          comgre    500\n",
       "4         comkin1    500\n",
       "..            ...    ...\n",
       "177       blaeag1      6\n",
       "178       wynlau1      6\n",
       "179       niwpig1      5\n",
       "180       asiope1      5\n",
       "181        integr      5\n",
       "\n",
       "[182 rows x 2 columns]"
      ]
     },
     "execution_count": 32,
     "metadata": {},
     "output_type": "execute_result"
    }
   ],
   "source": [
    "value_counts_bird = train_data.primary_label.value_counts().reset_index()\n",
    "print(\"Value Counts of birds in train data:\")\n",
    "value_counts_bird"
   ]
  },
  {
   "cell_type": "code",
   "execution_count": 33,
   "metadata": {},
   "outputs": [
    {
     "data": {
      "text/plain": [
       "3.8434931926898073"
      ]
     },
     "execution_count": 33,
     "metadata": {},
     "output_type": "execute_result"
    }
   ],
   "source": [
    "train_data.rating.describe()['mean']"
   ]
  },
  {
   "cell_type": "code",
   "execution_count": 34,
   "metadata": {},
   "outputs": [
    {
     "name": "stderr",
     "output_type": "stream",
     "text": [
      "C:\\Users\\pench\\AppData\\Local\\Temp\\ipykernel_3320\\2553835596.py:3: DeprecationWarning: DataFrameGroupBy.apply operated on the grouping columns. This behavior is deprecated, and in a future version of pandas the grouping columns will be excluded from the operation. Either pass `include_groups=False` to exclude the groupings or explicitly select the grouping columns after groupby to silence this warning.\n",
      "  sampled_data = train_data.groupby('primary_label', group_keys=False).apply(lambda x: x.sample(min(len(x), min_samples_per_species), random_state=21))\n"
     ]
    }
   ],
   "source": [
    "min_samples_per_species = 500\n",
    "\n",
    "sampled_data = train_data.groupby('primary_label', group_keys=False).apply(lambda x: x.sample(min(len(x), min_samples_per_species), random_state=42))\n",
    "\n",
    "sampled_data = sampled_data.sample(frac=1, random_state=42).reset_index(drop=True)"
   ]
  },
  {
   "cell_type": "code",
   "execution_count": 35,
   "metadata": {},
   "outputs": [
    {
     "data": {
      "text/plain": [
       "(24459, 12)"
      ]
     },
     "execution_count": 35,
     "metadata": {},
     "output_type": "execute_result"
    }
   ],
   "source": [
    "sampled_data.shape"
   ]
  },
  {
   "cell_type": "code",
   "execution_count": 36,
   "metadata": {},
   "outputs": [],
   "source": [
    "SR = 32000 # 100\n",
    "DURATION = 15\n",
    "N_FFT = 2048 # 100"
   ]
  },
  {
   "cell_type": "code",
   "execution_count": 37,
   "metadata": {},
   "outputs": [
    {
     "name": "stdout",
     "output_type": "stream",
     "text": [
      "CPU times: total: 5min 9s\n",
      "Wall time: 12min\n"
     ]
    }
   ],
   "source": [
    "%%time\n",
    "sound_data = []\n",
    "sound_rate_data = []\n",
    "for file_name in sampled_data.filename:\n",
    "    file_path = os.path.join('C:/Users/pench/OneDrive/Desktop/birdclef-2024/train_audio/', file_name)    \n",
    "    sound, sr = librosa.load(file_path, sr=SR, duration=DURATION)\n",
    "#     rms_file = librosa.feature.rms(y=sound, hop_length=30)\n",
    "    mfcc = librosa.feature.mfcc(y=sound, sr=sr, n_fft=N_FFT)\n",
    "    mfcc_sound = mfcc.mean(axis=1)\n",
    "    sound_data.append(mfcc_sound)"
   ]
  },
  {
   "cell_type": "code",
   "execution_count": 38,
   "metadata": {},
   "outputs": [
    {
     "data": {
      "text/plain": [
       "[array([-4.7564365e+02,  1.1057095e+02, -8.7197876e+01,  2.2136614e+01,\n",
       "         7.7044568e+00, -4.4703732e+00,  1.4085218e+01, -5.1760864e+00,\n",
       "         4.6983752e+00,  3.4395556e+00,  7.5066133e+00, -5.5040014e-01,\n",
       "        -5.8760729e+00,  1.3056787e+01,  1.4258533e+00, -4.2661915e+00,\n",
       "         1.6279253e-01, -1.4204188e-01,  2.7269747e+00, -4.1471219e+00],\n",
       "       dtype=float32),\n",
       " array([-314.07816  ,   11.478308 , -106.21097  ,   56.371563 ,\n",
       "         -72.69879  ,   25.085804 ,  -52.416897 ,  -34.94647  ,\n",
       "           5.272666 ,  -42.437393 ,  -13.599385 ,  -11.889186 ,\n",
       "          -8.314347 ,  -18.595076 ,    1.6064831,  -10.951144 ,\n",
       "           2.077883 ,   -4.207936 ,   -5.3873425,    7.13845  ],\n",
       "       dtype=float32),\n",
       " array([-310.63657  ,   -6.4178843, -120.93245  ,  -30.969913 ,\n",
       "         -29.479961 ,  -20.768337 ,  -27.510803 ,  -27.789022 ,\n",
       "         -40.255383 ,  -26.027424 ,  -23.309427 ,   -6.788182 ,\n",
       "           1.7667698,   15.605968 ,    9.617308 ,   18.386404 ,\n",
       "           1.7247977,    8.256071 ,   -4.1057034,    3.934307 ],\n",
       "       dtype=float32),\n",
       " array([-383.2237   ,  128.3932   ,  -22.764072 ,   12.614968 ,\n",
       "         -24.97463  ,   22.504028 ,  -12.708575 ,   16.082346 ,\n",
       "         -13.868156 ,   14.086135 ,   -2.3427887,   15.113308 ,\n",
       "          -3.2752314,   15.284614 ,   -1.1672351,    7.7316384,\n",
       "          -8.740522 ,    5.743193 ,   -3.1082716,    2.736487 ],\n",
       "       dtype=float32),\n",
       " array([-4.2846201e+02,  7.5149223e+01, -4.3248272e+00,  3.5481148e+01,\n",
       "        -7.0637422e+00,  1.1643645e+01, -3.8311931e-01,  1.1069766e+01,\n",
       "        -2.3886347e+00,  7.8161316e+00, -3.7472682e+00,  4.1822119e+00,\n",
       "        -4.2646604e+00,  8.0981112e+00, -9.4008446e+00,  1.0398741e+01,\n",
       "        -7.3996201e+00,  4.4810667e+00, -1.9146076e+00,  3.3713264e+00],\n",
       "       dtype=float32)]"
      ]
     },
     "execution_count": 38,
     "metadata": {},
     "output_type": "execute_result"
    }
   ],
   "source": [
    "sound_data[:5]"
   ]
  },
  {
   "cell_type": "code",
   "execution_count": 65,
   "metadata": {},
   "outputs": [
    {
     "data": {
      "image/png": "[encoded data removed]",
      "text/plain": [
       "<Figure size 1000x700 with 1 Axes>"
      ]
     },
     "metadata": {
      "image/png": {
       "height": 631,
       "width": 838
      }
     },
     "output_type": "display_data"
    }
   ],
   "source": [
    "sound, sr = librosa.load('C:/Users/pench/OneDrive/Desktop/birdclef-2024/train_audio/asbfly/XC134896.ogg')\n",
    "\n",
    "fig, axes = plt.subplots(figsize=(10, 7))\n",
    "\n",
    "librosa.display.waveshow(sound, sr=sr)\n",
    "axes.set_title(\"Envelope view, mono\", fontsize=15)\n",
    "\n",
    "plt.show()"
   ]
  },
  {
   "cell_type": "code",
   "execution_count": 40,
   "metadata": {},
   "outputs": [],
   "source": [
    "from sklearn.preprocessing import LabelEncoder\n",
    "\n",
    "le = LabelEncoder()\n",
    "y = le.fit_transform(sampled_data.primary_label)"
   ]
  },
  {
   "cell_type": "code",
   "execution_count": 41,
   "metadata": {},
   "outputs": [
    {
     "data": {
      "text/plain": [
       "20"
      ]
     },
     "execution_count": 41,
     "metadata": {},
     "output_type": "execute_result"
    }
   ],
   "source": [
    "sound_data[0].shape[0]"
   ]
  },
  {
   "cell_type": "code",
   "execution_count": 42,
   "metadata": {},
   "outputs": [
    {
     "data": {
      "text/plain": [
       "array([-4.7564365e+02,  1.1057095e+02, -8.7197876e+01,  2.2136614e+01,\n",
       "        7.7044568e+00, -4.4703732e+00,  1.4085218e+01, -5.1760864e+00,\n",
       "        4.6983752e+00,  3.4395556e+00,  7.5066133e+00, -5.5040014e-01,\n",
       "       -5.8760729e+00,  1.3056787e+01,  1.4258533e+00, -4.2661915e+00,\n",
       "        1.6279253e-01, -1.4204188e-01,  2.7269747e+00, -4.1471219e+00],\n",
       "      dtype=float32)"
      ]
     },
     "execution_count": 42,
     "metadata": {},
     "output_type": "execute_result"
    }
   ],
   "source": [
    "sound_data[0]"
   ]
  },
  {
   "cell_type": "code",
   "execution_count": 43,
   "metadata": {},
   "outputs": [
    {
     "name": "stdout",
     "output_type": "stream",
     "text": [
      "20\n"
     ]
    }
   ],
   "source": [
    "min_shape = 100000000000\n",
    "for audio in sound_data:\n",
    "    if audio.shape[0] < min_shape:\n",
    "        min_shape = audio.shape[0]\n",
    "print(min_shape)"
   ]
  },
  {
   "cell_type": "code",
   "execution_count": 44,
   "metadata": {},
   "outputs": [],
   "source": [
    "equal_data = [librosa.util.fix_length(sound, size=20) for sound in sound_data]"
   ]
  },
  {
   "cell_type": "code",
   "execution_count": 45,
   "metadata": {},
   "outputs": [
    {
     "name": "stdout",
     "output_type": "stream",
     "text": [
      "20\n"
     ]
    }
   ],
   "source": [
    "min_shape = 100000000000\n",
    "for audio in equal_data:\n",
    "    if audio.shape[0] < min_shape:\n",
    "        min_shape = audio.shape[0]\n",
    "print(min_shape)"
   ]
  },
  {
   "cell_type": "code",
   "execution_count": 46,
   "metadata": {},
   "outputs": [],
   "source": [
    "filtered_sound_data = np.array(sound_data)"
   ]
  },
  {
   "cell_type": "code",
   "execution_count": 47,
   "metadata": {},
   "outputs": [
    {
     "data": {
      "text/plain": [
       "(24459, 20)"
      ]
     },
     "execution_count": 47,
     "metadata": {},
     "output_type": "execute_result"
    }
   ],
   "source": [
    "filtered_sound_data.shape"
   ]
  },
  {
   "cell_type": "code",
   "execution_count": 48,
   "metadata": {},
   "outputs": [],
   "source": [
    "from imblearn.over_sampling import RandomOverSampler\n",
    "\n",
    "ros = RandomOverSampler(sampling_strategy={class_label: 500 for class_label in range(182)}, random_state=42)\n",
    "X_ros, y_ros = ros.fit_resample(filtered_sound_data, y)"
   ]
  },
  {
   "cell_type": "code",
   "execution_count": 49,
   "metadata": {},
   "outputs": [
    {
     "data": {
      "text/plain": [
       "(91000, 20)"
      ]
     },
     "execution_count": 49,
     "metadata": {},
     "output_type": "execute_result"
    }
   ],
   "source": [
    "X_ros.shape"
   ]
  },
  {
   "cell_type": "code",
   "execution_count": 50,
   "metadata": {},
   "outputs": [],
   "source": [
    "from sklearn.model_selection import train_test_split, GridSearchCV, RandomizedSearchCV, cross_val_score, StratifiedKFold\n",
    "from sklearn.preprocessing import StandardScaler, MinMaxScaler\n",
    "from sklearn.compose import make_column_transformer, make_column_selector\n",
    "from sklearn.pipeline import Pipeline\n",
    "from sklearn.metrics import make_scorer, precision_score, recall_score, f1_score\n",
    "\n",
    "\n",
    "class Searcher:\n",
    "    RANDOM_STATE = 42\n",
    "\n",
    "    def __init__(self, features, label):\n",
    "        #         label = self.columns_transformer().fit_transform(label)\n",
    "        self.X_train, self.X_test, self.y_train, self.y_test = train_test_split(features,\n",
    "                                                                                label,\n",
    "                                                                                test_size=0.2,\n",
    "                                                                                random_state=self.RANDOM_STATE)\n",
    "\n",
    "    def searcher(self, estimator, param_grid, random: bool = False):\n",
    "        searcher = self.random_search(estimator, param_grid) if random else self.grid_search(estimator, param_grid)\n",
    "        self.print_results_searching(searcher)\n",
    "\n",
    "        return searcher\n",
    "\n",
    "    def grid_search(self, estimator, param_grid):\n",
    "        searching = GridSearchCV(self.make_model(estimator),\n",
    "                                 param_grid=param_grid,\n",
    "                                 scoring=self.make_f1_scorer(),\n",
    "                                 cv=StratifiedKFold(n_splits=5, shuffle=True, random_state=self.RANDOM_STATE),\n",
    "                                 n_jobs=-1,\n",
    "                                 verbose=1)\n",
    "        return searching.fit(self.X_train, self.y_train)\n",
    "\n",
    "    def random_search(self, estimator, param_distributions):\n",
    "        searching = RandomizedSearchCV(self.make_model(estimator),\n",
    "                                       param_distributions=param_distributions,\n",
    "                                       n_iter=10,\n",
    "                                       scoring=self.make_f1_scorer(),\n",
    "                                       cv=StratifiedKFold(n_splits=5, shuffle=True, random_state=self.RANDOM_STATE),\n",
    "                                       n_jobs=-1,\n",
    "                                       verbose=1)\n",
    "        return searching.fit(self.X_train, self.y_train)\n",
    "\n",
    "    @staticmethod\n",
    "    def print_results_searching(searcher):\n",
    "        best_params = searcher.best_params_\n",
    "        best_score = searcher.best_score_\n",
    "        print(\"-\" * 50)\n",
    "        print(\"***RESULTS SEARCHING***\")\n",
    "        print(f\"Best estimator's params: {best_params}\")\n",
    "        print(f\"Best searching score: {best_score}\")\n",
    "        print(\"-\" * 50)\n",
    "\n",
    "    @staticmethod\n",
    "    def make_model(estimator):\n",
    "        model = Pipeline([\n",
    "            ('scaler', StandardScaler()),\n",
    "            ('estimator', estimator)\n",
    "        ])\n",
    "\n",
    "        return model\n",
    "\n",
    "\n",
    "    @staticmethod\n",
    "    def make_f1_scorer():\n",
    "        return make_scorer(f1_score, average='macro')\n",
    "\n",
    "\n",
    "class Model(Searcher):\n",
    "    def __init__(self, features, label):\n",
    "        super().__init__(features, label)\n",
    "\n",
    "    def __call__(self, estimator, param_grid, random: bool = False):\n",
    "        searcher = self.searcher(estimator, param_grid, random)\n",
    "        best_params = self.get_searching_params(searcher.best_params_)\n",
    "\n",
    "        estimator.set_params(**best_params).fit(self.X_train, self.y_train)\n",
    "        self.print_results(estimator)\n",
    "        \n",
    "        return estimator\n",
    "\n",
    "    def print_results(self, model):\n",
    "        y_pred = model.predict(self.X_test)\n",
    "\n",
    "        print(\"***RESULTS MODEL***\")\n",
    "        print(f\"Accuracy train score: {model.score(self.X_train, self.y_train)}\")\n",
    "        print(f\"Accuracy test score: {model.score(self.X_test, self.y_test)}\")\n",
    "        print(\n",
    "            f\"Cross validation score: {cross_val_score(model, self.X_test, self.y_test, scoring=self.make_f1_scorer(), cv=StratifiedKFold(shuffle=True, random_state=self.RANDOM_STATE))}\")\n",
    "        print(f\"Precision score: {precision_score(self.y_test, y_pred, average='macro')}\")\n",
    "        print(f\"Recall score: {recall_score(self.y_test, y_pred, average='macro')}\")\n",
    "        print(f\"F1 score: {f1_score(self.y_test, y_pred, average='macro')}\")\n",
    "        print(\"-\" * 50)\n",
    "\n",
    "    @staticmethod\n",
    "    def get_searching_params(params):\n",
    "        return {param_name.split('estimator__')[1]: param for param_name, param in params.items()}"
   ]
  },
  {
   "cell_type": "code",
   "execution_count": 51,
   "metadata": {},
   "outputs": [],
   "source": [
    "model = Model(X_ros, y_ros)"
   ]
  },
  {
   "cell_type": "code",
   "execution_count": 52,
   "metadata": {},
   "outputs": [],
   "source": [
    "from sklearn.neighbors import KNeighborsClassifier\n",
    "from sklearn.tree import DecisionTreeClassifier\n",
    "from sklearn.ensemble import RandomForestClassifier, GradientBoostingClassifier, VotingClassifier\n",
    "from xgboost import XGBClassifier\n",
    "from lightgbm import LGBMClassifier"
   ]
  },
  {
   "cell_type": "code",
   "execution_count": 53,
   "metadata": {},
   "outputs": [
    {
     "name": "stdout",
     "output_type": "stream",
     "text": [
      "Fitting 5 folds for each of 100 candidates, totalling 500 fits\n",
      "--------------------------------------------------\n",
      "***RESULTS SEARCHING***\n",
      "Best estimator's params: {'estimator__leaf_size': 1, 'estimator__n_neighbors': 1, 'estimator__weights': 'uniform'}\n",
      "Best searching score: 0.8468811372946687\n",
      "--------------------------------------------------\n",
      "***RESULTS MODEL***\n",
      "Accuracy train score: 1.0\n",
      "Accuracy test score: 0.8611538461538462\n",
      "Cross validation score: [0.64105789 0.63668257 0.63665602 0.63947249 0.63973148]\n",
      "Precision score: 0.836453160256406\n",
      "Recall score: 0.8591828289271374\n",
      "F1 score: 0.8460765389640917\n",
      "--------------------------------------------------\n",
      "CPU times: total: 55.8 s\n",
      "Wall time: 4min 48s\n"
     ]
    }
   ],
   "source": [
    "%%time\n",
    "knn_params = {\n",
    "    'estimator__n_neighbors': [1, 2, 3, 4, 5],\n",
    "    'estimator__leaf_size': [1, 2, 3, 4, 5, 6, 7, 8, 9, 10],\n",
    "    'estimator__weights': ['uniform', 'distance'],\n",
    "}\n",
    "\n",
    "knn_model = model(KNeighborsClassifier(),  knn_params)"
   ]
  },
  {
   "cell_type": "code",
   "execution_count": 60,
   "metadata": {},
   "outputs": [
    {
     "name": "stdout",
     "output_type": "stream",
     "text": [
      "         filename predicted_species\n",
      "0  1000170626.ogg            barswa\n",
      "1  1000308629.ogg           brwjac1\n",
      "2  1000389428.ogg           grbeat1\n",
      "3  1000424265.ogg            bcnher\n",
      "4  1000450112.ogg            comgre\n"
     ]
    }
   ],
   "source": [
    "# Process the test data\n",
    "sound_test_data = []\n",
    "sound_test_rate_data = []\n",
    "idx = []\n",
    "for sound_name in os.listdir('C:/Users/pench/OneDrive/Desktop/birdclef-2024/unlabeled_soundscapes'):\n",
    "    sound, sr = librosa.load(os.path.join('C:/Users/pench/OneDrive/Desktop/birdclef-2024/unlabeled_soundscapes', sound_name), sr=32000, duration=20)\n",
    "    mfcc = librosa.feature.mfcc(y=sound, sr=sr)\n",
    "    mfcc_sound = mfcc.mean(axis=1)\n",
    "    sound_test_data.append(mfcc_sound)\n",
    "    sound_test_rate_data.append(sr)\n",
    "    idx.append(sound_name)\n",
    "\n",
    "# Get predictions\n",
    "test_pred = knn_model.predict_proba(sound_test_data)\n",
    "\n",
    "# Get the predicted class indices\n",
    "predicted_class_indices = np.argmax(test_pred, axis=1)\n",
    "\n",
    "# Map the indices to the bird species names\n",
    "predicted_species = le.inverse_transform(predicted_class_indices)\n",
    "\n",
    "# Create a DataFrame with the filenames and their predicted species\n",
    "submission = pd.DataFrame({\n",
    "    'filename': idx,\n",
    "    'predicted_species': predicted_species\n",
    "})\n",
    "\n",
    "# Print the DataFrame\n",
    "print(submission.head())\n",
    "\n",
    "# Optionally, save to CSV\n",
    "submission.to_csv('predicted_species.csv', index=False)"
   ]
  },
  {
   "cell_type": "code",
   "execution_count": 67,
   "metadata": {},
   "outputs": [],
   "source": [
    "import pickle\n",
    "filename='trained_model.sav'\n",
    "pickle.dump(knn_model, open(filename , 'wb'))"
   ]
  },
  {
   "cell_type": "code",
   "execution_count": 68,
   "metadata": {},
   "outputs": [],
   "source": [
    "#loading the saved model\n",
    "loaded_model=pickle.load(open('trained_model.sav','rb'))"
   ]
  },
  {
   "cell_type": "code",
   "execution_count": 69,
   "metadata": {},
   "outputs": [
    {
     "name": "stdout",
     "output_type": "stream",
     "text": [
      "         filename predicted_species\n",
      "0  1000170626.ogg            barswa\n",
      "1  1000308629.ogg           brwjac1\n",
      "2  1000389428.ogg           grbeat1\n",
      "3  1000424265.ogg            bcnher\n",
      "4  1000450112.ogg            comgre\n"
     ]
    }
   ],
   "source": [
    "# Get predictions\n",
    "test_pred = loaded_model.predict_proba(sound_test_data)\n",
    "\n",
    "# Get the predicted class indices\n",
    "predicted_class_indices = np.argmax(test_pred, axis=1)\n",
    "\n",
    "# Map the indices to the bird species names\n",
    "predicted_species = le.inverse_transform(predicted_class_indices)\n",
    "\n",
    "# Create a DataFrame with the filenames and their predicted species\n",
    "submission = pd.DataFrame({\n",
    "    'filename': idx,\n",
    "    'predicted_species': predicted_species\n",
    "})\n",
    "\n",
    "# Print the DataFrame\n",
    "print(submission.head())\n"
   ]
  },
  {
   "cell_type": "code",
   "execution_count": null,
   "metadata": {},
   "outputs": [],
   "source": []
  }
 ],
 "metadata": {
  "kernelspec": {
   "display_name": "base",
   "language": "python",
   "name": "python3"
  },
  "language_info": {
   "codemirror_mode": {
    "name": "ipython",
    "version": 3
   },
   "file_extension": ".py",
   "mimetype": "text/x-python",
   "name": "python",
   "nbconvert_exporter": "python",
   "pygments_lexer": "ipython3",
   "version": "3.10.14"
  }
 },
 "nbformat": 4,
 "nbformat_minor": 2
}
